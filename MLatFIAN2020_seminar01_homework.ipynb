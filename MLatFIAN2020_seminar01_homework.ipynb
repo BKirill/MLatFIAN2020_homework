{
  "nbformat": 4,
  "nbformat_minor": 0,
  "metadata": {
    "colab": {
      "name": "Copy of MLatFIAN2020_seminar01_homework.ipynb",
      "provenance": [],
      "collapsed_sections": [],
      "include_colab_link": true
    },
    "kernelspec": {
      "display_name": "Python 3",
      "language": "python",
      "name": "python3"
    },
    "language_info": {
      "codemirror_mode": {
        "name": "ipython",
        "version": 3
      },
      "file_extension": ".py",
      "mimetype": "text/x-python",
      "name": "python",
      "nbconvert_exporter": "python",
      "pygments_lexer": "ipython3",
      "version": "3.5.2"
    }
  },
  "cells": [
    {
      "cell_type": "markdown",
      "metadata": {
        "id": "view-in-github",
        "colab_type": "text"
      },
      "source": [
        "<a href=\"https://colab.research.google.com/github/BKirill/MLatFIAN2020_homework/blob/main/MLatFIAN2020_seminar01_homework.ipynb\" target=\"_parent\"><img src=\"https://colab.research.google.com/assets/colab-badge.svg\" alt=\"Open In Colab\"/></a>"
      ]
    },
    {
      "cell_type": "markdown",
      "metadata": {
        "id": "NXzOlAR5sPtS"
      },
      "source": [
        "Get the Titanic dataset:"
      ]
    },
    {
      "cell_type": "code",
      "metadata": {
        "id": "4CWHxPY62I-D",
        "outputId": "f74f8d23-edf0-4844-db2e-ca5aa94e0dbf",
        "colab": {
          "base_uri": "https://localhost:8080/",
          "height": 308
        }
      },
      "source": [
        "!wget https://github.com/HSE-LAMBDA/MLatFIAN2020/raw/master/seminar01/train.csv"
      ],
      "execution_count": 1,
      "outputs": [
        {
          "output_type": "stream",
          "text": [
            "--2020-10-05 17:22:23--  https://github.com/HSE-LAMBDA/MLatFIAN2020/raw/master/seminar01/train.csv\n",
            "Resolving github.com (github.com)... 140.82.121.4\n",
            "Connecting to github.com (github.com)|140.82.121.4|:443... connected.\n",
            "HTTP request sent, awaiting response... 302 Found\n",
            "Location: https://raw.githubusercontent.com/HSE-LAMBDA/MLatFIAN2020/master/seminar01/train.csv [following]\n",
            "--2020-10-05 17:22:24--  https://raw.githubusercontent.com/HSE-LAMBDA/MLatFIAN2020/master/seminar01/train.csv\n",
            "Resolving raw.githubusercontent.com (raw.githubusercontent.com)... 151.101.0.133, 151.101.64.133, 151.101.128.133, ...\n",
            "Connecting to raw.githubusercontent.com (raw.githubusercontent.com)|151.101.0.133|:443... connected.\n",
            "HTTP request sent, awaiting response... 200 OK\n",
            "Length: 60302 (59K) [text/plain]\n",
            "Saving to: ‘train.csv.4’\n",
            "\n",
            "train.csv.4         100%[===================>]  58.89K  --.-KB/s    in 0.007s  \n",
            "\n",
            "2020-10-05 17:22:24 (7.86 MB/s) - ‘train.csv.4’ saved [60302/60302]\n",
            "\n"
          ],
          "name": "stdout"
        }
      ]
    },
    {
      "cell_type": "code",
      "metadata": {
        "id": "G36oVo3RJXVc",
        "outputId": "693c9867-706e-406d-f136-456d72d54de9",
        "colab": {
          "base_uri": "https://localhost:8080/",
          "height": 237
        }
      },
      "source": [
        "import pandas as pd\n",
        "data = pd.read_csv(\"train.csv\", index_col='PassengerId')\n",
        "data.head()"
      ],
      "execution_count": 2,
      "outputs": [
        {
          "output_type": "execute_result",
          "data": {
            "text/html": [
              "<div>\n",
              "<style scoped>\n",
              "    .dataframe tbody tr th:only-of-type {\n",
              "        vertical-align: middle;\n",
              "    }\n",
              "\n",
              "    .dataframe tbody tr th {\n",
              "        vertical-align: top;\n",
              "    }\n",
              "\n",
              "    .dataframe thead th {\n",
              "        text-align: right;\n",
              "    }\n",
              "</style>\n",
              "<table border=\"1\" class=\"dataframe\">\n",
              "  <thead>\n",
              "    <tr style=\"text-align: right;\">\n",
              "      <th></th>\n",
              "      <th>Survived</th>\n",
              "      <th>Pclass</th>\n",
              "      <th>Name</th>\n",
              "      <th>Sex</th>\n",
              "      <th>Age</th>\n",
              "      <th>SibSp</th>\n",
              "      <th>Parch</th>\n",
              "      <th>Ticket</th>\n",
              "      <th>Fare</th>\n",
              "      <th>Cabin</th>\n",
              "      <th>Embarked</th>\n",
              "    </tr>\n",
              "    <tr>\n",
              "      <th>PassengerId</th>\n",
              "      <th></th>\n",
              "      <th></th>\n",
              "      <th></th>\n",
              "      <th></th>\n",
              "      <th></th>\n",
              "      <th></th>\n",
              "      <th></th>\n",
              "      <th></th>\n",
              "      <th></th>\n",
              "      <th></th>\n",
              "      <th></th>\n",
              "    </tr>\n",
              "  </thead>\n",
              "  <tbody>\n",
              "    <tr>\n",
              "      <th>1</th>\n",
              "      <td>0</td>\n",
              "      <td>3</td>\n",
              "      <td>Braund, Mr. Owen Harris</td>\n",
              "      <td>male</td>\n",
              "      <td>22.0</td>\n",
              "      <td>1</td>\n",
              "      <td>0</td>\n",
              "      <td>A/5 21171</td>\n",
              "      <td>7.2500</td>\n",
              "      <td>NaN</td>\n",
              "      <td>S</td>\n",
              "    </tr>\n",
              "    <tr>\n",
              "      <th>2</th>\n",
              "      <td>1</td>\n",
              "      <td>1</td>\n",
              "      <td>Cumings, Mrs. John Bradley (Florence Briggs Th...</td>\n",
              "      <td>female</td>\n",
              "      <td>38.0</td>\n",
              "      <td>1</td>\n",
              "      <td>0</td>\n",
              "      <td>PC 17599</td>\n",
              "      <td>71.2833</td>\n",
              "      <td>C85</td>\n",
              "      <td>C</td>\n",
              "    </tr>\n",
              "    <tr>\n",
              "      <th>3</th>\n",
              "      <td>1</td>\n",
              "      <td>3</td>\n",
              "      <td>Heikkinen, Miss. Laina</td>\n",
              "      <td>female</td>\n",
              "      <td>26.0</td>\n",
              "      <td>0</td>\n",
              "      <td>0</td>\n",
              "      <td>STON/O2. 3101282</td>\n",
              "      <td>7.9250</td>\n",
              "      <td>NaN</td>\n",
              "      <td>S</td>\n",
              "    </tr>\n",
              "    <tr>\n",
              "      <th>4</th>\n",
              "      <td>1</td>\n",
              "      <td>1</td>\n",
              "      <td>Futrelle, Mrs. Jacques Heath (Lily May Peel)</td>\n",
              "      <td>female</td>\n",
              "      <td>35.0</td>\n",
              "      <td>1</td>\n",
              "      <td>0</td>\n",
              "      <td>113803</td>\n",
              "      <td>53.1000</td>\n",
              "      <td>C123</td>\n",
              "      <td>S</td>\n",
              "    </tr>\n",
              "    <tr>\n",
              "      <th>5</th>\n",
              "      <td>0</td>\n",
              "      <td>3</td>\n",
              "      <td>Allen, Mr. William Henry</td>\n",
              "      <td>male</td>\n",
              "      <td>35.0</td>\n",
              "      <td>0</td>\n",
              "      <td>0</td>\n",
              "      <td>373450</td>\n",
              "      <td>8.0500</td>\n",
              "      <td>NaN</td>\n",
              "      <td>S</td>\n",
              "    </tr>\n",
              "  </tbody>\n",
              "</table>\n",
              "</div>"
            ],
            "text/plain": [
              "             Survived  Pclass  ... Cabin Embarked\n",
              "PassengerId                    ...               \n",
              "1                   0       3  ...   NaN        S\n",
              "2                   1       1  ...   C85        C\n",
              "3                   1       3  ...   NaN        S\n",
              "4                   1       1  ...  C123        S\n",
              "5                   0       3  ...   NaN        S\n",
              "\n",
              "[5 rows x 11 columns]"
            ]
          },
          "metadata": {
            "tags": []
          },
          "execution_count": 2
        }
      ]
    },
    {
      "cell_type": "markdown",
      "metadata": {
        "id": "EDHw3sHgJXVj"
      },
      "source": [
        "#### About the data\n",
        "Here's some of the columns\n",
        "* Name - a string with person's full name\n",
        "* Survived - 1 if a person survived the shipwreck, 0 otherwise.\n",
        "* Pclass - passenger class. Pclass == 3 is cheap'n'cheerful, Pclass == 1 is for moneybags.\n",
        "* Sex - a person's gender\n",
        "* Age - age in years, if available\n",
        "* SibSp - number of siblings on a ship\n",
        "* Parch - number of parents on a ship\n",
        "* Fare - ticket cost\n",
        "* Embarked - port where the passenger embarked\n",
        " * C = Cherbourg; Q = Queenstown; S = Southampton"
      ]
    },
    {
      "cell_type": "markdown",
      "metadata": {
        "id": "n2RcXTh7sf5u"
      },
      "source": [
        "## Task 1"
      ]
    },
    {
      "cell_type": "code",
      "metadata": {
        "id": "p7O68NpyJXWw",
        "outputId": "f3ce81dc-003c-4d40-f77c-80e812516b88",
        "colab": {
          "base_uri": "https://localhost:8080/",
          "height": 108
        }
      },
      "source": [
        "# Compute survaval rate for each of the three passenger classes (`Pclass` = 1, 2 and 3)\n",
        "# (can you do it using groupby?)\n",
        "\n",
        "data.groupby(\"Pclass\").Survived.mean()"
      ],
      "execution_count": 3,
      "outputs": [
        {
          "output_type": "execute_result",
          "data": {
            "text/plain": [
              "Pclass\n",
              "1    0.629630\n",
              "2    0.472826\n",
              "3    0.242363\n",
              "Name: Survived, dtype: float64"
            ]
          },
          "metadata": {
            "tags": []
          },
          "execution_count": 3
        }
      ]
    },
    {
      "cell_type": "markdown",
      "metadata": {
        "id": "qdeQs-GlvK-t"
      },
      "source": [
        "## Task 2"
      ]
    },
    {
      "cell_type": "code",
      "metadata": {
        "id": "FMGlVI6SuKRh",
        "outputId": "d3ea9e6b-8c86-4986-c565-95d3aef3cad0",
        "colab": {
          "base_uri": "https://localhost:8080/",
          "height": 279
        }
      },
      "source": [
        "# Plot the average number of parents onboard (`Parch`) as a function of the \n",
        "# number of siblings onboard (`SibSp`)\n",
        "\n",
        "import matplotlib.pyplot as plt\n",
        "\n",
        "par_num = data.groupby(\"SibSp\").Parch.mean()\n",
        "plt.xlabel('SibSp')\n",
        "plt.ylabel('Parch')\n",
        "plt.scatter(par_num.index, par_num);"
      ],
      "execution_count": 4,
      "outputs": [
        {
          "output_type": "display_data",
          "data": {
            "image/png": "[encoded data removed]",
            "text/plain": [
              "<Figure size 432x288 with 1 Axes>"
            ]
          },
          "metadata": {
            "tags": [],
            "needs_background": "light"
          }
        }
      ]
    },
    {
      "cell_type": "markdown",
      "metadata": {
        "id": "uuqTMItiv8or"
      },
      "source": [
        "## Task 3"
      ]
    },
    {
      "cell_type": "code",
      "metadata": {
        "id": "JhbbBk93JXXV",
        "outputId": "924e8c6d-07f4-45b8-c68e-b32195467cfd",
        "colab": {
          "base_uri": "https://localhost:8080/",
          "height": 35
        }
      },
      "source": [
        "# Build a model with KNeighborsClassifier to get the accuracy of\n",
        "# at least 0.75 on the validation part of the dataset\n",
        "\n",
        "from sklearn.neighbors import KNeighborsClassifier\n",
        "from sklearn.metrics import accuracy_score\n",
        "from sklearn.preprocessing import RobustScaler\n",
        "\n",
        "def feature_selection_and_preprocessing(dataset):\n",
        "  # Pre-processing the features\n",
        "  features = dataset[[\"Fare\", \"Parch\", \"Sex\", \"SibSp\", \"Pclass\", \"Age\"]].copy()\n",
        "  features[\"AgeIsMissing\"] = features.Age.isna().astype('int32')\n",
        "  features[\"IsAChild\"] = (features.Age < 18).astype('int32')\n",
        "  avg_age = features.Age.mean()\n",
        "  features.Age.fillna(avg_age, inplace=True)\n",
        "  features[\"Sex\"] = (features.Sex == 'male').astype('int32')\n",
        "\n",
        "  # Selecting the features\n",
        "  features = features[[\"SibSp\", \"Parch\", \"IsAChild\", \n",
        "                       \"Pclass\", \"Sex\", \"AgeIsMissing\"]]\n",
        "\n",
        "  # Scaling the features\n",
        "  scaler = RobustScaler()\n",
        "  scaler.fit_transform(features)\n",
        "\n",
        "  return features\n",
        "\n",
        "model = KNeighborsClassifier(\n",
        "    n_neighbors=13\n",
        ")\n",
        "\n",
        "\n",
        "# Validation code (do not touch)\n",
        "data = pd.read_csv(\"train.csv\", index_col='PassengerId')\n",
        "data_train = data.iloc[:-100]\n",
        "data_test = data.iloc[-100:]\n",
        "\n",
        "model.fit(\n",
        "    feature_selection_and_preprocessing(\n",
        "        data_train.drop('Survived', axis=1)\n",
        "    ),\n",
        "    data_train['Survived']\n",
        ")\n",
        "\n",
        "test_predictions = model.predict(\n",
        "    feature_selection_and_preprocessing(\n",
        "        data_test.drop('Survived', axis=1)\n",
        "    )\n",
        ")\n",
        "print(\"Test accuracy:\", accuracy_score(\n",
        "    data_test['Survived'],\n",
        "    test_predictions\n",
        "))"
      ],
      "execution_count": 5,
      "outputs": [
        {
          "output_type": "stream",
          "text": [
            "Test accuracy: 0.86\n"
          ],
          "name": "stdout"
        }
      ]
    },
    {
      "cell_type": "markdown",
      "metadata": {
        "id": "7YcV2BSy2_yu"
      },
      "source": [
        "## Task 4"
      ]
    },
    {
      "cell_type": "markdown",
      "metadata": {
        "id": "jZjuqx3K3KiD"
      },
      "source": [
        "Check how your model from the previous task performs on randomized splits to train / test (with test set of size 100). Plot the histogram of the test error distribution.\n",
        "\n",
        "*Hint: check sklearn's `sklearn.model_selection.train_test_split` function.*"
      ]
    },
    {
      "cell_type": "code",
      "metadata": {
        "id": "WB6SCY2I3Dgb",
        "outputId": "936b1602-2d8b-4a78-8236-ac08138cf3f3",
        "colab": {
          "base_uri": "https://localhost:8080/",
          "height": 301
        }
      },
      "source": [
        "import numpy as np\n",
        "from sklearn.model_selection import train_test_split\n",
        "from tqdm import trange\n",
        "\n",
        "data = pd.read_csv(\"train.csv\", index_col='PassengerId')\n",
        "acc_scores = []\n",
        "\n",
        "for _ in trange(2000):\n",
        "  # Randomly splitting the data\n",
        "  data_train, data_test = train_test_split(data, test_size=100)\n",
        "\n",
        "  # Training the model\n",
        "  model.fit(\n",
        "    feature_selection_and_preprocessing(\n",
        "        data_train.drop('Survived', axis=1)\n",
        "    ),\n",
        "    data_train['Survived']\n",
        "  )\n",
        "\n",
        "  # Evaluating the model\n",
        "  test_predictions = model.predict(\n",
        "      feature_selection_and_preprocessing(\n",
        "          data_test.drop('Survived', axis=1)\n",
        "      )\n",
        "  )\n",
        "  acc_scores.append(accuracy_score(\n",
        "      data_test['Survived'],\n",
        "      test_predictions\n",
        "  ))\n",
        "\n",
        "# Plotting the results\n",
        "print('Mean accuracy: ', np.mean(acc_scores))\n",
        "bins = np.linspace(np.min(acc_scores), np.max(acc_scores), 15)\n",
        "plt.hist(acc_scores, bins);\n",
        "plt.show()"
      ],
      "execution_count": 6,
      "outputs": [
        {
          "output_type": "stream",
          "text": [
            "100%|██████████| 2000/2000 [00:35<00:00, 55.95it/s]\n"
          ],
          "name": "stderr"
        },
        {
          "output_type": "stream",
          "text": [
            "Mean accuracy:  0.8043800000000001\n"
          ],
          "name": "stdout"
        },
        {
          "output_type": "display_data",
          "data": {
            "image/png": "[encoded data removed]",
            "text/plain": [
              "<Figure size 432x288 with 1 Axes>"
            ]
          },
          "metadata": {
            "tags": [],
            "needs_background": "light"
          }
        }
      ]
    }
  ]
}