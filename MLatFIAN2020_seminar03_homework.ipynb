{
  "nbformat": 4,
  "nbformat_minor": 0,
  "metadata": {
    "colab": {
      "name": "Copy of MLatFIAN2020-seminar03-homework.ipynb",
      "provenance": [],
      "toc_visible": true,
      "include_colab_link": true
    },
    "kernelspec": {
      "name": "python3",
      "display_name": "Python 3"
    }
  },
  "cells": [
    {
      "cell_type": "markdown",
      "metadata": {
        "id": "view-in-github",
        "colab_type": "text"
      },
      "source": [
        "<a href=\"https://colab.research.google.com/github/BKirill/MLatFIAN2020_homework/blob/main/MLatFIAN2020_seminar03_homework.ipynb\" target=\"_parent\"><img src=\"https://colab.research.google.com/assets/colab-badge.svg\" alt=\"Open In Colab\"/></a>"
      ]
    },
    {
      "cell_type": "markdown",
      "metadata": {
        "id": "VyNyFPNLVxuA"
      },
      "source": [
        "# Boston housing dataset"
      ]
    },
    {
      "cell_type": "markdown",
      "metadata": {
        "id": "UAiD9r1mV5ka"
      },
      "source": [
        "Use the data and model from the seminar:"
      ]
    },
    {
      "cell_type": "code",
      "metadata": {
        "id": "gIxJDCLGXJ6W"
      },
      "source": [
        "import matplotlib.pyplot as plt\n",
        "from sklearn.datasets import load_boston\n",
        "import pandas as pd\n",
        "import numpy as np\n",
        "\n",
        "from sklearn.linear_model import Ridge\n",
        "from sklearn.pipeline import make_pipeline\n",
        "from sklearn.preprocessing import PolynomialFeatures\n",
        "from sklearn.metrics import mean_squared_error\n",
        "from sklearn.model_selection import train_test_split"
      ],
      "execution_count": 1,
      "outputs": []
    },
    {
      "cell_type": "code",
      "metadata": {
        "id": "20pkSnXwX5fW"
      },
      "source": [
        "columns = [\"CRIM\", \"RM\", \"LSTAT\"]\n",
        "\n",
        "data = load_boston()\n",
        "X = pd.DataFrame(data.data, columns=data.feature_names)[columns]\n",
        "X /= X.max()\n",
        "y = data.target"
      ],
      "execution_count": 2,
      "outputs": []
    },
    {
      "cell_type": "code",
      "metadata": {
        "id": "O1yoR0D2fZcM",
        "outputId": "946603cd-bdaf-4e6c-9e9c-8fae7a8f4855",
        "colab": {
          "base_uri": "https://localhost:8080/",
          "height": 53
        }
      },
      "source": [
        "X_train, X_test, y_train, y_test = train_test_split(X, y, test_size=50, random_state=42)\n",
        "\n",
        "model = make_pipeline(\n",
        "    PolynomialFeatures(9, include_bias=False),\n",
        "    Ridge(alpha=0.1)\n",
        ")\n",
        "\n",
        "model.fit(X_train, y_train)\n",
        "\n",
        "print('train mse = ', mean_squared_error(y_train, model.predict(X_train)))\n",
        "print('test mse = ', mean_squared_error(y_test, model.predict(X_test)))"
      ],
      "execution_count": 3,
      "outputs": [
        {
          "output_type": "stream",
          "text": [
            "train mse =  19.312028078112938\n",
            "test mse =  8.517501881762888\n"
          ],
          "name": "stdout"
        }
      ]
    },
    {
      "cell_type": "markdown",
      "metadata": {
        "id": "ercMxDDhkddQ"
      },
      "source": [
        "# Task 1"
      ]
    },
    {
      "cell_type": "markdown",
      "metadata": {
        "id": "S1PKO5ebkjsM"
      },
      "source": [
        "Use `sklearn.model_selection.cross_validate` to perform K-fold cross-validation of the model above. Plot histograms of train and test scores (`\"neg_mean_squared_error\"`) on the same plot.\n",
        "\n",
        "Do that for 10 and 100 folds.\n",
        "\n",
        "See the docs for more details about the function: https://scikit-learn.org/stable/modules/generated/sklearn.model_selection.cross_validate.html"
      ]
    },
    {
      "cell_type": "code",
      "metadata": {
        "id": "8mPbo3d8gG-w"
      },
      "source": [
        "from sklearn.model_selection import cross_validate"
      ],
      "execution_count": 4,
      "outputs": []
    },
    {
      "cell_type": "code",
      "metadata": {
        "id": "uRjHKo-MkxJX"
      },
      "source": [
        "# Performing K-fold cross-validation of the model with k = 10, 100\n",
        "cv10_result = cross_validate(model, X, y, cv=10, \n",
        "                           scoring = ('neg_mean_squared_error',), \n",
        "                           return_train_score=True)\n",
        "\n",
        "cv100_result = cross_validate(model, X, y, cv=100, \n",
        "                           scoring = ('neg_mean_squared_error',), \n",
        "                           return_train_score=True)"
      ],
      "execution_count": 5,
      "outputs": []
    },
    {
      "cell_type": "code",
      "metadata": {
        "id": "AGdek50DVb6s",
        "outputId": "6cb0e593-365f-48d9-c5ef-e51c33445855",
        "colab": {
          "base_uri": "https://localhost:8080/",
          "height": 281
        }
      },
      "source": [
        "# Plotting the histograms of train and test scores for k=10\n",
        "test_res = cv10_result['test_neg_mean_squared_error']\n",
        "train_res = cv10_result['train_neg_mean_squared_error']\n",
        "bins = np.linspace(np.minimum(test_res.min(), train_res.min()),\n",
        "                   np.maximum(test_res.max(), train_res.max()), 20)\n",
        "plt.hist(test_res, bins, alpha=0.5, label='test')\n",
        "plt.hist(train_res, bins, alpha=0.5, label='train')\n",
        "plt.legend(loc='upper left')\n",
        "plt.title('Negative mean squared error for KFold with k=10')\n",
        "plt.show();"
      ],
      "execution_count": 6,
      "outputs": [
        {
          "output_type": "display_data",
          "data": {
            "image/png": "[encoded data removed]",
            "text/plain": [
              "<Figure size 432x288 with 1 Axes>"
            ]
          },
          "metadata": {
            "tags": [],
            "needs_background": "light"
          }
        }
      ]
    },
    {
      "cell_type": "code",
      "metadata": {
        "id": "TMLgPOneWeLR",
        "outputId": "9e1bc21c-7b02-41c0-96b2-b8a798cf4ace",
        "colab": {
          "base_uri": "https://localhost:8080/",
          "height": 281
        }
      },
      "source": [
        "# Plotting the histograms of train and test scores for k=100\n",
        "test_res = cv100_result['test_neg_mean_squared_error']\n",
        "train_res = cv100_result['train_neg_mean_squared_error']\n",
        "bins = np.linspace(np.minimum(test_res.min(), train_res.min()),\n",
        "                   np.maximum(test_res.max(), train_res.max()), 50)\n",
        "plt.hist(test_res, bins, alpha=0.5, label='test')\n",
        "plt.hist(train_res, bins, alpha=0.5, label='train')\n",
        "plt.legend(loc='upper left')\n",
        "plt.title('Negative mean squared error for KFold with k=100')\n",
        "plt.show();"
      ],
      "execution_count": 7,
      "outputs": [
        {
          "output_type": "display_data",
          "data": {
            "image/png": "[encoded data removed]",
            "text/plain": [
              "<Figure size 432x288 with 1 Axes>"
            ]
          },
          "metadata": {
            "tags": [],
            "needs_background": "light"
          }
        }
      ]
    }
  ]
}